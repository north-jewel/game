{
 "cells": [
  {
   "cell_type": "code",
   "execution_count": 6,
   "metadata": {},
   "outputs": [],
   "source": [
    "import numpy as np\n",
    "import pandas as pd\n",
    "import matplotlib.pyplot as plt\n",
    "import time\n",
    "#动图刷新导入：\n",
    "import matplotlib   \n",
    "%matplotlib inline\n",
    "from IPython import display\n",
    "\n",
    "def counts2(x,y,n_list):\n",
    "    '''\n",
    "    return:判断周围活着的数量\n",
    "    '''\n",
    "    lx = n_list.shape[0]-1\n",
    "    ly = n_list.shape[1]-1\n",
    "    m=0\n",
    "    for xz in (x-1,x,x+1):\n",
    "        for yz in (y-1,y,y+1):\n",
    "            if xz==x and yz==y:\n",
    "                continue\n",
    "            if (xz<0 or xz>lx or yz<0 or yz>ly):\n",
    "                continue\n",
    "            if (n_list[xz,yz]):\n",
    "                m+=1\n",
    "    return m"
   ]
  },
  {
   "cell_type": "code",
   "execution_count": 76,
   "metadata": {
    "scrolled": true
   },
   "outputs": [
    {
     "data": {
      "image/png": "[encoded data removed]",
      "text/plain": [
       "<Figure size 432x288 with 1 Axes>"
      ]
     },
     "metadata": {},
     "output_type": "display_data"
    }
   ],
   "source": [
    "s=10    #大小\n",
    "list1=np.random.randint(0,2,(s,s))\n",
    "list2 = np.random.randint(0,1,(s,s))\n",
    "plt.imshow(list1,interpolation=None)#interpolation='nearest'     ;nearest输出尖锐边缘\n",
    "plt.show()#将矩形输出为图像\n",
    "a=0\n",
    "while a<10:\n",
    "    for i in range(len(list1)):\n",
    "        for x in range(len(list1[i])):\n",
    "            mm = counts2(i,x,list1)\n",
    "            if mm == 3:\n",
    "                list2[i,x]=1\n",
    "            elif mm == 2:\n",
    "                list2[i,x]= list1[i,x]\n",
    "            else:\n",
    "                list2[i,x]=0\n",
    "    list1=list2\n",
    "    display.clear_output(wait=True)\n",
    "    time.sleep(1)\n",
    "    plt.imshow(list1)\n",
    "    plt.show()#将矩形输出为图像\n",
    "    a+=1\n",
    "#     print(list1)"
   ]
  },
  {
   "cell_type": "code",
   "execution_count": 112,
   "metadata": {},
   "outputs": [
    {
     "data": {
      "image/png": "[encoded data removed]",
      "text/plain": [
       "<Figure size 432x288 with 1 Axes>"
      ]
     },
     "metadata": {},
     "output_type": "display_data"
    }
   ],
   "source": [
    "import matplotlib.pyplot as plt\n",
    "import numpy as np\n",
    "import time\n",
    "import matplotlib\n",
    "%matplotlib inline\n",
    "from IPython import display\n",
    "s=10\n",
    "list1=np.random.randint(0,2,(s,s))\n",
    "list2 = np.random.randint(0,1,(s,s))\n",
    "xyticks = [-1,0,1,2,3,4,5,6,7,8,9,10]\n",
    "a=0\n",
    "# plt.ion()  #交互模式\n",
    "while a<10:\n",
    "#     fig = plt.figure(1,frameon=False,figsize=(5,5))\n",
    "    xlist=[]\n",
    "    ylist=[]\n",
    "    for i in range(len(list1)):\n",
    "        for x in range(len(list1[i])):\n",
    "            if list1[i,x]==1:\n",
    "                xlist.append(i)\n",
    "                ylist.append(x)\n",
    "            mm = counts2(i,x,list1)\n",
    "            if mm == 3:\n",
    "                list2[i,x]=1\n",
    "            elif mm == 2:\n",
    "                list2[i,x]= list1[i,x]\n",
    "            else:\n",
    "                list2[i,x]= 0\n",
    "    list1=list2.copy()\n",
    "    # plt.subplot(121)\n",
    "    #     plt.clf()\n",
    "    display.clear_output(wait=True)\n",
    "    plt.scatter(xlist,ylist,linewidths=10)\n",
    "    plt.xticks(xyticks) \n",
    "    plt.yticks(xyticks)\n",
    "    plt.grid()\n",
    "    plt.show()\n",
    "    time.sleep(1)\n",
    "    a+=1\n",
    "# plt.ioff()"
   ]
  },
  {
   "cell_type": "code",
   "execution_count": null,
   "metadata": {},
   "outputs": [],
   "source": []
  }
 ],
 "metadata": {
  "kernelspec": {
   "display_name": "Python 3",
   "language": "python",
   "name": "python3"
  },
  "language_info": {
   "codemirror_mode": {
    "name": "ipython",
    "version": 3
   },
   "file_extension": ".py",
   "mimetype": "text/x-python",
   "name": "python",
   "nbconvert_exporter": "python",
   "pygments_lexer": "ipython3",
   "version": "3.6.5"
  }
 },
 "nbformat": 4,
 "nbformat_minor": 2
}
